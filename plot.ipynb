{
 "cells": [
  {
   "cell_type": "code",
   "execution_count": 1,
   "metadata": {},
   "outputs": [
    {
     "name": "stdout",
     "output_type": "stream",
     "text": [
      "3000\n",
      "here ok\n"
     ]
    },
    {
     "ename": "TypeError",
     "evalue": "Dimensions of C (50, 60) are incompatible with X (3000) and/or Y (3000); see help(pcolormesh)",
     "output_type": "error",
     "traceback": [
      "\u001b[0;31m---------------------------------------------------------------------------\u001b[0m",
      "\u001b[0;31mTypeError\u001b[0m                                 Traceback (most recent call last)",
      "Cell \u001b[0;32mIn [1], line 38\u001b[0m\n\u001b[1;32m     36\u001b[0m \u001b[39mprint\u001b[39m(\u001b[39m\"\u001b[39m\u001b[39mhere ok\u001b[39m\u001b[39m\"\u001b[39m)\n\u001b[1;32m     37\u001b[0m fig \u001b[39m=\u001b[39m plt\u001b[39m.\u001b[39mfigure(figsize \u001b[39m=\u001b[39m [\u001b[39m13.5\u001b[39m, \u001b[39m5\u001b[39m], dpi \u001b[39m=\u001b[39m \u001b[39m100\u001b[39m)\n\u001b[0;32m---> 38\u001b[0m fig \u001b[39m=\u001b[39m plt\u001b[39m.\u001b[39;49mpcolormesh(x, t, u, cmap\u001b[39m=\u001b[39;49mplt\u001b[39m.\u001b[39;49mget_cmap(\u001b[39m'\u001b[39;49m\u001b[39mPurples\u001b[39;49m\u001b[39m'\u001b[39;49m))\n\u001b[1;32m     39\u001b[0m fig \u001b[39m=\u001b[39m plt\u001b[39m.\u001b[39mcolorbar()\n\u001b[1;32m     41\u001b[0m \u001b[39m# Настройка осей и меток\u001b[39;00m\n",
      "File \u001b[0;32m/usr/local/lib/python3.9/site-packages/matplotlib/pyplot.py:2709\u001b[0m, in \u001b[0;36mpcolormesh\u001b[0;34m(alpha, norm, cmap, vmin, vmax, shading, antialiased, data, *args, **kwargs)\u001b[0m\n\u001b[1;32m   2704\u001b[0m \u001b[39m@_copy_docstring_and_deprecators\u001b[39m(Axes\u001b[39m.\u001b[39mpcolormesh)\n\u001b[1;32m   2705\u001b[0m \u001b[39mdef\u001b[39;00m \u001b[39mpcolormesh\u001b[39m(\n\u001b[1;32m   2706\u001b[0m         \u001b[39m*\u001b[39margs, alpha\u001b[39m=\u001b[39m\u001b[39mNone\u001b[39;00m, norm\u001b[39m=\u001b[39m\u001b[39mNone\u001b[39;00m, cmap\u001b[39m=\u001b[39m\u001b[39mNone\u001b[39;00m, vmin\u001b[39m=\u001b[39m\u001b[39mNone\u001b[39;00m,\n\u001b[1;32m   2707\u001b[0m         vmax\u001b[39m=\u001b[39m\u001b[39mNone\u001b[39;00m, shading\u001b[39m=\u001b[39m\u001b[39mNone\u001b[39;00m, antialiased\u001b[39m=\u001b[39m\u001b[39mFalse\u001b[39;00m, data\u001b[39m=\u001b[39m\u001b[39mNone\u001b[39;00m,\n\u001b[1;32m   2708\u001b[0m         \u001b[39m*\u001b[39m\u001b[39m*\u001b[39mkwargs):\n\u001b[0;32m-> 2709\u001b[0m     __ret \u001b[39m=\u001b[39m gca()\u001b[39m.\u001b[39;49mpcolormesh(\n\u001b[1;32m   2710\u001b[0m         \u001b[39m*\u001b[39;49margs, alpha\u001b[39m=\u001b[39;49malpha, norm\u001b[39m=\u001b[39;49mnorm, cmap\u001b[39m=\u001b[39;49mcmap, vmin\u001b[39m=\u001b[39;49mvmin,\n\u001b[1;32m   2711\u001b[0m         vmax\u001b[39m=\u001b[39;49mvmax, shading\u001b[39m=\u001b[39;49mshading, antialiased\u001b[39m=\u001b[39;49mantialiased,\n\u001b[1;32m   2712\u001b[0m         \u001b[39m*\u001b[39;49m\u001b[39m*\u001b[39;49m({\u001b[39m\"\u001b[39;49m\u001b[39mdata\u001b[39;49m\u001b[39m\"\u001b[39;49m: data} \u001b[39mif\u001b[39;49;00m data \u001b[39mis\u001b[39;49;00m \u001b[39mnot\u001b[39;49;00m \u001b[39mNone\u001b[39;49;00m \u001b[39melse\u001b[39;49;00m {}), \u001b[39m*\u001b[39;49m\u001b[39m*\u001b[39;49mkwargs)\n\u001b[1;32m   2713\u001b[0m     sci(__ret)\n\u001b[1;32m   2714\u001b[0m     \u001b[39mreturn\u001b[39;00m __ret\n",
      "File \u001b[0;32m/usr/local/lib/python3.9/site-packages/matplotlib/__init__.py:1433\u001b[0m, in \u001b[0;36m_preprocess_data.<locals>.inner\u001b[0;34m(ax, data, *args, **kwargs)\u001b[0m\n\u001b[1;32m   1430\u001b[0m \u001b[39m@functools\u001b[39m\u001b[39m.\u001b[39mwraps(func)\n\u001b[1;32m   1431\u001b[0m \u001b[39mdef\u001b[39;00m \u001b[39minner\u001b[39m(ax, \u001b[39m*\u001b[39margs, data\u001b[39m=\u001b[39m\u001b[39mNone\u001b[39;00m, \u001b[39m*\u001b[39m\u001b[39m*\u001b[39mkwargs):\n\u001b[1;32m   1432\u001b[0m     \u001b[39mif\u001b[39;00m data \u001b[39mis\u001b[39;00m \u001b[39mNone\u001b[39;00m:\n\u001b[0;32m-> 1433\u001b[0m         \u001b[39mreturn\u001b[39;00m func(ax, \u001b[39m*\u001b[39;49m\u001b[39mmap\u001b[39;49m(sanitize_sequence, args), \u001b[39m*\u001b[39;49m\u001b[39m*\u001b[39;49mkwargs)\n\u001b[1;32m   1435\u001b[0m     bound \u001b[39m=\u001b[39m new_sig\u001b[39m.\u001b[39mbind(ax, \u001b[39m*\u001b[39margs, \u001b[39m*\u001b[39m\u001b[39m*\u001b[39mkwargs)\n\u001b[1;32m   1436\u001b[0m     auto_label \u001b[39m=\u001b[39m (bound\u001b[39m.\u001b[39marguments\u001b[39m.\u001b[39mget(label_namer)\n\u001b[1;32m   1437\u001b[0m                   \u001b[39mor\u001b[39;00m bound\u001b[39m.\u001b[39mkwargs\u001b[39m.\u001b[39mget(label_namer))\n",
      "File \u001b[0;32m/usr/local/lib/python3.9/site-packages/matplotlib/axes/_axes.py:6169\u001b[0m, in \u001b[0;36mAxes.pcolormesh\u001b[0;34m(self, alpha, norm, cmap, vmin, vmax, shading, antialiased, *args, **kwargs)\u001b[0m\n\u001b[1;32m   6166\u001b[0m shading \u001b[39m=\u001b[39m shading\u001b[39m.\u001b[39mlower()\n\u001b[1;32m   6167\u001b[0m kwargs\u001b[39m.\u001b[39msetdefault(\u001b[39m'\u001b[39m\u001b[39medgecolors\u001b[39m\u001b[39m'\u001b[39m, \u001b[39m'\u001b[39m\u001b[39mnone\u001b[39m\u001b[39m'\u001b[39m)\n\u001b[0;32m-> 6169\u001b[0m X, Y, C, shading \u001b[39m=\u001b[39m \u001b[39mself\u001b[39;49m\u001b[39m.\u001b[39;49m_pcolorargs(\u001b[39m'\u001b[39;49m\u001b[39mpcolormesh\u001b[39;49m\u001b[39m'\u001b[39;49m, \u001b[39m*\u001b[39;49margs,\n\u001b[1;32m   6170\u001b[0m                                     shading\u001b[39m=\u001b[39;49mshading, kwargs\u001b[39m=\u001b[39;49mkwargs)\n\u001b[1;32m   6171\u001b[0m coords \u001b[39m=\u001b[39m np\u001b[39m.\u001b[39mstack([X, Y], axis\u001b[39m=\u001b[39m\u001b[39m-\u001b[39m\u001b[39m1\u001b[39m)\n\u001b[1;32m   6172\u001b[0m \u001b[39m# convert to one dimensional array\u001b[39;00m\n",
      "File \u001b[0;32m/usr/local/lib/python3.9/site-packages/matplotlib/axes/_axes.py:5697\u001b[0m, in \u001b[0;36mAxes._pcolorargs\u001b[0;34m(self, funcname, shading, *args, **kwargs)\u001b[0m\n\u001b[1;32m   5695\u001b[0m \u001b[39mif\u001b[39;00m shading \u001b[39m==\u001b[39m \u001b[39m'\u001b[39m\u001b[39mflat\u001b[39m\u001b[39m'\u001b[39m:\n\u001b[1;32m   5696\u001b[0m     \u001b[39mif\u001b[39;00m (Nx, Ny) \u001b[39m!=\u001b[39m (ncols \u001b[39m+\u001b[39m \u001b[39m1\u001b[39m, nrows \u001b[39m+\u001b[39m \u001b[39m1\u001b[39m):\n\u001b[0;32m-> 5697\u001b[0m         \u001b[39mraise\u001b[39;00m \u001b[39mTypeError\u001b[39;00m(\u001b[39m'\u001b[39m\u001b[39mDimensions of C \u001b[39m\u001b[39m%s\u001b[39;00m\u001b[39m are incompatible with\u001b[39m\u001b[39m'\u001b[39m\n\u001b[1;32m   5698\u001b[0m                         \u001b[39m'\u001b[39m\u001b[39m X (\u001b[39m\u001b[39m%d\u001b[39;00m\u001b[39m) and/or Y (\u001b[39m\u001b[39m%d\u001b[39;00m\u001b[39m); see help(\u001b[39m\u001b[39m%s\u001b[39;00m\u001b[39m)\u001b[39m\u001b[39m'\u001b[39m \u001b[39m%\u001b[39m (\n\u001b[1;32m   5699\u001b[0m                             C\u001b[39m.\u001b[39mshape, Nx, Ny, funcname))\n\u001b[1;32m   5700\u001b[0m \u001b[39melse\u001b[39;00m:    \u001b[39m# ['nearest', 'gouraud']:\u001b[39;00m\n\u001b[1;32m   5701\u001b[0m     \u001b[39mif\u001b[39;00m (Nx, Ny) \u001b[39m!=\u001b[39m (ncols, nrows):\n",
      "\u001b[0;31mTypeError\u001b[0m: Dimensions of C (50, 60) are incompatible with X (3000) and/or Y (3000); see help(pcolormesh)"
     ]
    },
    {
     "data": {
      "image/png": "[encoded data removed]",
      "text/plain": [
       "<Figure size 1350x500 with 1 Axes>"
      ]
     },
     "metadata": {},
     "output_type": "display_data"
    }
   ],
   "source": [
    "import pandas as pd\n",
    "import numpy as np\n",
    "import matplotlib.pyplot as plt\n",
    "from mpl_toolkits.mplot3d import Axes3D\n",
    "\n",
    "K = 50\n",
    "M = 60\n",
    "\n",
    "# Загрузка данных из CSV файла\n",
    "dataframe = pd.read_csv('output.csv', sep='\\t')\n",
    "x = dataframe['x']\n",
    "t = dataframe['t']\n",
    "u = dataframe['u']\n",
    "\n",
    "\n",
    "# # Создание 3D графика\n",
    "# fig = plt.figure()\n",
    "# ax = fig.add_subplot(111, projection='3d')\n",
    "# ax.plot_trisurf(x, t, u, cmap='viridis')\n",
    "\n",
    "# # Настройка осей и меток\n",
    "# ax.set_xlabel('x')\n",
    "# ax.set_ylabel('t')\n",
    "# ax.set_zlabel('u')\n",
    "# ax.set_title('График функции u(x,t)')\n",
    "\n",
    "# # Отображение графика\n",
    "# plt.show()\n",
    "\n",
    "# Создание colour графика\n",
    "x = dataframe.iloc[:, 0].to_numpy()\n",
    "t = dataframe.iloc[:, 1].to_numpy()\n",
    "u = dataframe.iloc[:, 2].to_numpy()\n",
    "print(u.size, x.size, t.size)\n",
    "u = u.reshape(K, M)\n",
    "print(\"here ok\")\n",
    "fig = plt.figure(figsize = [13.5, 5], dpi = 100)\n",
    "fig = plt.pcolormesh(x, t, u, cmap=plt.get_cmap('Purples'))\n",
    "fig = plt.colorbar()\n",
    "\n",
    "# Настройка осей и меток\n",
    "fig = plt.xlabel('x')\n",
    "fig = plt.ylabel('t')\n",
    "fig = plt.title('График функции u(x,t)')\n",
    "fig = plt.tight_layout()\n",
    "\n",
    "# Отображение графика\n",
    "plt.show()"
   ]
  }
 ],
 "metadata": {
  "kernelspec": {
   "display_name": "Python 3",
   "language": "python",
   "name": "python3"
  },
  "language_info": {
   "codemirror_mode": {
    "name": "ipython",
    "version": 3
   },
   "file_extension": ".py",
   "mimetype": "text/x-python",
   "name": "python",
   "nbconvert_exporter": "python",
   "pygments_lexer": "ipython3",
   "version": "3.9.16"
  },
  "orig_nbformat": 4,
  "vscode": {
   "interpreter": {
    "hash": "397704579725e15f5c7cb49fe5f0341eb7531c82d19f2c29d197e8b64ab5776b"
   }
  }
 },
 "nbformat": 4,
 "nbformat_minor": 2
}
